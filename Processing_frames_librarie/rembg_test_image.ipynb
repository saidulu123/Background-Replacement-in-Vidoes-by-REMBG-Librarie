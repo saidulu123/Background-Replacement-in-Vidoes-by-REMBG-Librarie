{
 "cells": [
  {
   "cell_type": "code",
   "execution_count": 1,
   "metadata": {},
   "outputs": [
    {
     "name": "stdout",
     "output_type": "stream",
     "text": [
      "Requirement already satisfied: pillow in c:\\users\\saidulushaik\\anaconda3\\lib\\site-packages (10.2.0)\n",
      "Collecting pillow\n",
      "  Using cached pillow-10.3.0-cp311-cp311-win_amd64.whl.metadata (9.4 kB)\n",
      "Using cached pillow-10.3.0-cp311-cp311-win_amd64.whl (2.5 MB)\n",
      "Installing collected packages: pillow\n",
      "  Attempting uninstall: pillow\n",
      "    Found existing installation: pillow 10.2.0\n",
      "    Uninstalling pillow-10.2.0:\n",
      "      Successfully uninstalled pillow-10.2.0\n",
      "Successfully installed pillow-10.3.0\n"
     ]
    }
   ],
   "source": [
    "!pip install -U pillow"
   ]
  },
  {
   "cell_type": "code",
   "execution_count": 2,
   "metadata": {},
   "outputs": [
    {
     "name": "stdout",
     "output_type": "stream",
     "text": [
      "Collecting rembg\n",
      "  Using cached rembg-2.0.56-py3-none-any.whl.metadata (15 kB)\n",
      "Requirement already satisfied: jsonschema in c:\\users\\saidulushaik\\anaconda3\\lib\\site-packages (from rembg) (4.19.2)\n",
      "Requirement already satisfied: numpy in c:\\users\\saidulushaik\\anaconda3\\lib\\site-packages (from rembg) (1.24.3)\n",
      "Collecting onnxruntime (from rembg)\n",
      "  Downloading onnxruntime-1.17.3-cp311-cp311-win_amd64.whl.metadata (4.6 kB)\n",
      "Collecting opencv-python-headless (from rembg)\n",
      "  Using cached opencv_python_headless-4.9.0.80-cp37-abi3-win_amd64.whl.metadata (20 kB)\n",
      "Requirement already satisfied: pillow in c:\\users\\saidulushaik\\anaconda3\\lib\\site-packages (from rembg) (10.3.0)\n",
      "Collecting pooch (from rembg)\n",
      "  Using cached pooch-1.8.1-py3-none-any.whl.metadata (9.5 kB)\n",
      "Collecting pymatting (from rembg)\n",
      "  Using cached PyMatting-1.1.12-py3-none-any.whl.metadata (7.4 kB)\n",
      "Requirement already satisfied: scikit-image in c:\\users\\saidulushaik\\anaconda3\\lib\\site-packages (from rembg) (0.22.0)\n",
      "Requirement already satisfied: scipy in c:\\users\\saidulushaik\\anaconda3\\lib\\site-packages (from rembg) (1.11.4)\n",
      "Requirement already satisfied: tqdm in c:\\users\\saidulushaik\\anaconda3\\lib\\site-packages (from rembg) (4.65.0)\n",
      "Requirement already satisfied: attrs>=22.2.0 in c:\\users\\saidulushaik\\anaconda3\\lib\\site-packages (from jsonschema->rembg) (23.2.0)\n",
      "Requirement already satisfied: jsonschema-specifications>=2023.03.6 in c:\\users\\saidulushaik\\anaconda3\\lib\\site-packages (from jsonschema->rembg) (2023.7.1)\n",
      "Requirement already satisfied: referencing>=0.28.4 in c:\\users\\saidulushaik\\anaconda3\\lib\\site-packages (from jsonschema->rembg) (0.30.2)\n",
      "Requirement already satisfied: rpds-py>=0.7.1 in c:\\users\\saidulushaik\\anaconda3\\lib\\site-packages (from jsonschema->rembg) (0.10.6)\n",
      "Collecting coloredlogs (from onnxruntime->rembg)\n",
      "  Using cached coloredlogs-15.0.1-py2.py3-none-any.whl.metadata (12 kB)\n",
      "Requirement already satisfied: flatbuffers in c:\\users\\saidulushaik\\anaconda3\\lib\\site-packages (from onnxruntime->rembg) (24.3.7)\n",
      "Requirement already satisfied: packaging in c:\\users\\saidulushaik\\anaconda3\\lib\\site-packages (from onnxruntime->rembg) (23.1)\n",
      "Requirement already satisfied: protobuf in c:\\users\\saidulushaik\\anaconda3\\lib\\site-packages (from onnxruntime->rembg) (3.20.3)\n",
      "Requirement already satisfied: sympy in c:\\users\\saidulushaik\\anaconda3\\lib\\site-packages (from onnxruntime->rembg) (1.12)\n",
      "Requirement already satisfied: platformdirs>=2.5.0 in c:\\users\\saidulushaik\\anaconda3\\lib\\site-packages (from pooch->rembg) (3.10.0)\n",
      "Requirement already satisfied: requests>=2.19.0 in c:\\users\\saidulushaik\\anaconda3\\lib\\site-packages (from pooch->rembg) (2.31.0)\n",
      "Requirement already satisfied: numba!=0.49.0 in c:\\users\\saidulushaik\\anaconda3\\lib\\site-packages (from pymatting->rembg) (0.59.0)\n",
      "Requirement already satisfied: networkx>=2.8 in c:\\users\\saidulushaik\\anaconda3\\lib\\site-packages (from scikit-image->rembg) (3.1)\n",
      "Requirement already satisfied: imageio>=2.27 in c:\\users\\saidulushaik\\anaconda3\\lib\\site-packages (from scikit-image->rembg) (2.33.1)\n",
      "Requirement already satisfied: tifffile>=2022.8.12 in c:\\users\\saidulushaik\\anaconda3\\lib\\site-packages (from scikit-image->rembg) (2023.4.12)\n",
      "Requirement already satisfied: lazy_loader>=0.3 in c:\\users\\saidulushaik\\anaconda3\\lib\\site-packages (from scikit-image->rembg) (0.3)\n",
      "Requirement already satisfied: colorama in c:\\users\\saidulushaik\\anaconda3\\lib\\site-packages (from tqdm->rembg) (0.4.6)\n",
      "Requirement already satisfied: llvmlite<0.43,>=0.42.0dev0 in c:\\users\\saidulushaik\\anaconda3\\lib\\site-packages (from numba!=0.49.0->pymatting->rembg) (0.42.0)\n",
      "Requirement already satisfied: charset-normalizer<4,>=2 in c:\\users\\saidulushaik\\anaconda3\\lib\\site-packages (from requests>=2.19.0->pooch->rembg) (2.0.4)\n",
      "Requirement already satisfied: idna<4,>=2.5 in c:\\users\\saidulushaik\\anaconda3\\lib\\site-packages (from requests>=2.19.0->pooch->rembg) (3.4)\n",
      "Requirement already satisfied: urllib3<3,>=1.21.1 in c:\\users\\saidulushaik\\anaconda3\\lib\\site-packages (from requests>=2.19.0->pooch->rembg) (1.26.15)\n",
      "Requirement already satisfied: certifi>=2017.4.17 in c:\\users\\saidulushaik\\anaconda3\\lib\\site-packages (from requests>=2.19.0->pooch->rembg) (2024.2.2)\n",
      "Collecting humanfriendly>=9.1 (from coloredlogs->onnxruntime->rembg)\n",
      "  Using cached humanfriendly-10.0-py2.py3-none-any.whl.metadata (9.2 kB)\n",
      "Requirement already satisfied: mpmath>=0.19 in c:\\users\\saidulushaik\\anaconda3\\lib\\site-packages (from sympy->onnxruntime->rembg) (1.3.0)\n",
      "Collecting pyreadline3 (from humanfriendly>=9.1->coloredlogs->onnxruntime->rembg)\n",
      "  Using cached pyreadline3-3.4.1-py3-none-any.whl.metadata (2.0 kB)\n",
      "Using cached rembg-2.0.56-py3-none-any.whl (32 kB)\n",
      "Downloading onnxruntime-1.17.3-cp311-cp311-win_amd64.whl (5.6 MB)\n",
      "   ---------------------------------------- 0.0/5.6 MB ? eta -:--:--\n",
      "   ---------------------------------------- 0.0/5.6 MB 960.0 kB/s eta 0:00:06\n",
      "   ----------- ---------------------------- 1.6/5.6 MB 20.0 MB/s eta 0:00:01\n",
      "   ---------------------------------------  5.6/5.6 MB 44.7 MB/s eta 0:00:01\n",
      "   ---------------------------------------- 5.6/5.6 MB 39.7 MB/s eta 0:00:00\n",
      "Using cached opencv_python_headless-4.9.0.80-cp37-abi3-win_amd64.whl (38.5 MB)\n",
      "Using cached pooch-1.8.1-py3-none-any.whl (62 kB)\n",
      "Using cached PyMatting-1.1.12-py3-none-any.whl (52 kB)\n",
      "Using cached coloredlogs-15.0.1-py2.py3-none-any.whl (46 kB)\n",
      "Using cached humanfriendly-10.0-py2.py3-none-any.whl (86 kB)\n",
      "Using cached pyreadline3-3.4.1-py3-none-any.whl (95 kB)\n",
      "Installing collected packages: pyreadline3, opencv-python-headless, humanfriendly, pymatting, pooch, coloredlogs, onnxruntime, rembg\n",
      "Successfully installed coloredlogs-15.0.1 humanfriendly-10.0 onnxruntime-1.17.3 opencv-python-headless-4.9.0.80 pooch-1.8.1 pymatting-1.1.12 pyreadline3-3.4.1 rembg-2.0.56\n"
     ]
    }
   ],
   "source": [
    "!pip install rembg"
   ]
  },
  {
   "cell_type": "code",
   "execution_count": 3,
   "metadata": {},
   "outputs": [],
   "source": [
    "import sys\n",
    "sys.path.append('D:\\My projects\\Rembg\\rembg\\rembg')"
   ]
  },
  {
   "cell_type": "code",
   "execution_count": 4,
   "metadata": {},
   "outputs": [],
   "source": [
    "from rembg.bg import remove"
   ]
  },
  {
   "cell_type": "code",
   "execution_count": 5,
   "metadata": {},
   "outputs": [],
   "source": [
    "import requests\n",
    "from PIL import Image\n",
    "from io import BytesIO\n",
    "import os\n"
   ]
  },
  {
   "cell_type": "code",
   "execution_count": 7,
   "metadata": {},
   "outputs": [],
   "source": [
    "os.makedirs('original',exist_ok=True)\n",
    "os.makedirs('masked',exist_ok=True)\n"
   ]
  },
  {
   "cell_type": "code",
   "execution_count": 8,
   "metadata": {},
   "outputs": [],
   "source": [
    "img_url = 'https://res.cloudinary.com/dk3zwqnsq/image/upload/v1703066797/saidulu/prabhas_b2w.jpg'\n",
    "img_name = img_url.split('/')[-1]\n",
    "# Load the image from the URL and save it to the 'original' directory\n",
    "img = Image.open(BytesIO(requests.get(img_url).content))\n",
    "img.save('original/' + img_name, format='jpeg')"
   ]
  },
  {
   "cell_type": "code",
   "execution_count": 9,
   "metadata": {},
   "outputs": [],
   "source": [
    "# Specify the output path for the masked image\n",
    "output_path = 'masked/' + img_name\n",
    "# Open the image, remove the background using rembg, and save the result to the specified output path\n",
    "with open(output_path, 'wb') as f:\n",
    "    input = open('original/'+ img_name, 'rb').read()\n",
    "    #subject = remove(input, alpha_matting=True)\n",
    "    subject = remove(input, alpha_matting=True)\n",
    "\n",
    "    f.write(subject)"
   ]
  },
  {
   "cell_type": "code",
   "execution_count": 10,
   "metadata": {},
   "outputs": [],
   "source": [
    "img = Image.open(BytesIO(requests.get(img_url).content))\n",
    "img.save('original/' + img_name, format='jpeg')"
   ]
  },
  {
   "cell_type": "code",
   "execution_count": 11,
   "metadata": {},
   "outputs": [
    {
     "data": {
      "text/plain": [
       "'masked/prabhas_b2w.jpg'"
      ]
     },
     "execution_count": 11,
     "metadata": {},
     "output_type": "execute_result"
    }
   ],
   "source": [
    "output_path = 'masked/' + img_name\n",
    "output_path"
   ]
  },
  {
   "cell_type": "code",
   "execution_count": 12,
   "metadata": {},
   "outputs": [],
   "source": [
    "with open(output_path, 'wb') as f:\n",
    "  input = open('original/'+ img_name, 'rb').read()\n",
    "  subject = remove(input, alpha_matting=True)\n",
    "  f.write(subject)"
   ]
  },
  {
   "cell_type": "code",
   "execution_count": 13,
   "metadata": {},
   "outputs": [],
   "source": [
    "# Specify the URL of the background image\n",
    "background_img = 'https://res.cloudinary.com/dk3zwqnsq/image/upload/v1705915116/16_27_a-Stunning-marble-staircase-at-the-Sujan-Rajmahal-Palace_u4aruw.webp'\n",
    "background_img = Image.open(BytesIO(requests.get(background_img).content))\n",
    "\n",
    "# Resize the background image to match the dimensions of the original image\n",
    "background_img = background_img.resize((img.width, img.height))\n",
    "\n",
    "# Open the masked image and paste it onto the resized background image\n",
    "foreground_img = Image.open(output_path)\n",
    "background_img.paste(foreground_img, (0, 0), foreground_img)\n",
    "\n",
    "# Save the final image with the removed background and pasted on the new background\n",
    "background_img.save('masked/background.jpg', format='jpeg')\n"
   ]
  }
 ],
 "metadata": {
  "kernelspec": {
   "display_name": "exp",
   "language": "python",
   "name": "python3"
  },
  "language_info": {
   "codemirror_mode": {
    "name": "ipython",
    "version": 3
   },
   "file_extension": ".py",
   "mimetype": "text/x-python",
   "name": "python",
   "nbconvert_exporter": "python",
   "pygments_lexer": "ipython3",
   "version": "3.10.0"
  }
 },
 "nbformat": 4,
 "nbformat_minor": 2
}
