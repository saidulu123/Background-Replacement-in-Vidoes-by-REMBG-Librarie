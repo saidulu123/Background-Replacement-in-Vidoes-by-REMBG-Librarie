{
 "cells": [
  {
   "cell_type": "code",
   "execution_count": null,
   "metadata": {},
   "outputs": [],
   "source": [
    "!pip install -U pillow"
   ]
  },
  {
   "cell_type": "code",
   "execution_count": null,
   "metadata": {},
   "outputs": [],
   "source": [
    "!pip install rembg"
   ]
  },
  {
   "cell_type": "code",
   "execution_count": null,
   "metadata": {},
   "outputs": [],
   "source": [
    "import requests\n",
    "from PIL import Image\n",
    "from io import BytesIO\n",
    "import os\n",
    "from rembg.bg import remove"
   ]
  },
  {
   "cell_type": "code",
   "execution_count": null,
   "metadata": {},
   "outputs": [],
   "source": [
    "def process_image(input_path, output_folder, background_path):\n",
    "    # Load the image\n",
    "    img = Image.open(input_path)\n",
    "    \n",
    "    # Save the original image\n",
    "    original_filename = os.path.basename(input_path)\n",
    "    img.save(os.path.join(output_folder, 'original', original_filename), format='JPEG')\n",
    "    \n",
    "    # Remove the background\n",
    "    with open(input_path, 'rb') as f:\n",
    "        input_data = f.read()\n",
    "        subject = remove(input_data, alpha_matting=True)\n",
    "    \n",
    "    # Save the masked image\n",
    "    output_path = os.path.join(output_folder, 'masked', original_filename)\n",
    "    with open(output_path, 'wb') as f:\n",
    "        f.write(subject)\n",
    "    \n",
    "    # Open background image\n",
    "    background_img = Image.open(background_path)\n",
    "    background_img = background_img.resize((img.width, img.height))\n",
    "    \n",
    "    # Open masked image\n",
    "    foreground_img = Image.open(output_path)\n",
    "    \n",
    "    # Paste masked image onto background\n",
    "    background_img.paste(foreground_img, (0, 0), foreground_img)\n",
    "    \n",
    "    # Save final image\n",
    "    background_img.save(os.path.join(output_folder, 'processed', original_filename), format='JPEG')\n"
   ]
  },
  {
   "cell_type": "code",
   "execution_count": null,
   "metadata": {},
   "outputs": [],
   "source": [
    "# Function to process all images in a folder\n",
    "def process_folder(input_folder, output_folder, background_path):\n",
    "    os.makedirs(os.path.join(output_folder, 'original'), exist_ok=True)\n",
    "    os.makedirs(os.path.join(output_folder, 'masked'), exist_ok=True)\n",
    "    os.makedirs(os.path.join(output_folder, 'processed'), exist_ok=True)\n",
    "    \n",
    "    # Iterate over each file in the input folder\n",
    "    for filename in os.listdir(input_folder):\n",
    "        if filename.endswith(\".jpeg\") or filename.endswith(\".jpg\"):\n",
    "            input_path = os.path.join(input_folder, filename)\n",
    "            process_image(input_path, output_folder, background_path)\n"
   ]
  },
  {
   "cell_type": "code",
   "execution_count": null,
   "metadata": {},
   "outputs": [],
   "source": [
    "# Example usage\n",
    "input_folder = r\"D:\\My projects\\Rembg\\frames_extraction_HD\\output_frames\"\n",
    "output_folder = r\"D:\\My projects\\Rembg\\frames_extraction_HD\\processed_frames\"\n",
    "background_path = r'D:\\My projects\\Rembg\\frames_extraction_HD\\sunset.jpg'\n",
    "\n",
    "\n",
    "process_folder(input_folder, output_folder, background_path)"
   ]
  }
 ],
 "metadata": {
  "kernelspec": {
   "display_name": "exp",
   "language": "python",
   "name": "python3"
  },
  "language_info": {
   "codemirror_mode": {
    "name": "ipython",
    "version": 3
   },
   "file_extension": ".py",
   "mimetype": "text/x-python",
   "name": "python",
   "nbconvert_exporter": "python",
   "pygments_lexer": "ipython3",
   "version": "3.10.0"
  }
 },
 "nbformat": 4,
 "nbformat_minor": 2
}
