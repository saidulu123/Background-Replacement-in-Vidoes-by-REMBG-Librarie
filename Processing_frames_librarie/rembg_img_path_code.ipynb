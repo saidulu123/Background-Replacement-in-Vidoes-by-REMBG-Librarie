{
 "cells": [
  {
   "cell_type": "code",
   "execution_count": null,
   "metadata": {},
   "outputs": [],
   "source": [
    "!pip install -U pillow"
   ]
  },
  {
   "cell_type": "code",
   "execution_count": null,
   "metadata": {},
   "outputs": [],
   "source": [
    "!pip install rembg"
   ]
  },
  {
   "cell_type": "code",
   "execution_count": null,
   "metadata": {},
   "outputs": [],
   "source": [
    "import sys\n",
    "sys.path.append('D:\\My projects\\Rembg\\rembg\\rembg')"
   ]
  },
  {
   "cell_type": "code",
   "execution_count": null,
   "metadata": {},
   "outputs": [],
   "source": [
    "from rembg.bg import remove"
   ]
  },
  {
   "cell_type": "code",
   "execution_count": null,
   "metadata": {},
   "outputs": [],
   "source": [
    "import requests\n",
    "from PIL import Image\n",
    "from io import BytesIO\n",
    "import os\n"
   ]
  },
  {
   "cell_type": "code",
   "execution_count": null,
   "metadata": {},
   "outputs": [],
   "source": [
    "os.makedirs('original',exist_ok=True)\n",
    "os.makedirs('masked',exist_ok=True)\n"
   ]
  },
  {
   "cell_type": "code",
   "execution_count": null,
   "metadata": {},
   "outputs": [],
   "source": [
    "import os\n",
    "from PIL import Image"
   ]
  },
  {
   "cell_type": "code",
   "execution_count": null,
   "metadata": {},
   "outputs": [],
   "source": [
    "image_path = \"D:\\\\My projects\\\\Rembg\\\\frames_extraction_HD\\\\kiran.jpeg\"\n",
    "img_name = os.path.basename(image_path)\n"
   ]
  },
  {
   "cell_type": "code",
   "execution_count": null,
   "metadata": {},
   "outputs": [],
   "source": [
    "img = Image.open(image_path)\n",
    "img.save('original/' + img_name, format='JPEG')"
   ]
  },
  {
   "cell_type": "code",
   "execution_count": null,
   "metadata": {},
   "outputs": [],
   "source": [
    "# Specify the output path for the masked image\n",
    "output_path = 'masked/' + img_name\n",
    "# Open the image, remove the background using rembg, and save the result to the specified output path\n",
    "with open(output_path, 'wb') as f:\n",
    "    input = open('original/'+ img_name, 'rb').read()\n",
    "    #subject = remove(input, alpha_matting=True)\n",
    "    subject = remove(input, alpha_matting=True)\n",
    "\n",
    "    f.write(subject)"
   ]
  },
  {
   "cell_type": "code",
   "execution_count": null,
   "metadata": {},
   "outputs": [],
   "source": [
    "\n",
    "img.save('original/' + img_name, format='jpeg')"
   ]
  },
  {
   "cell_type": "code",
   "execution_count": null,
   "metadata": {},
   "outputs": [],
   "source": [
    "output_path = 'masked/' + img_name\n",
    "output_path"
   ]
  },
  {
   "cell_type": "code",
   "execution_count": null,
   "metadata": {},
   "outputs": [],
   "source": [
    "with open(output_path, 'wb') as f:\n",
    "  input = open('original/'+ img_name, 'rb').read()\n",
    "  subject = remove(input, alpha_matting=True)\n",
    "  f.write(subject)"
   ]
  },
  {
   "cell_type": "code",
   "execution_count": null,
   "metadata": {},
   "outputs": [],
   "source": [
    "from PIL import Image\n",
    "import os\n",
    "\n",
    "background_path = 'D:\\\\My projects\\\\Rembg\\\\frames_extraction_HD\\\\sunset.jpg'\n",
    "\n",
    "\n",
    "background_img = Image.open(background_path)\n",
    "\n",
    "background_img = background_img.resize((img.width, img.height))\n",
    "\n",
    "\n",
    "foreground_img = Image.open(output_path)\n",
    "background_img.paste(foreground_img, (0, 0), foreground_img)\n",
    "\n",
    "\n",
    "background_img.save('masked/background.jpg', format='JPEG')\n"
   ]
  }
 ],
 "metadata": {
  "kernelspec": {
   "display_name": "exp",
   "language": "python",
   "name": "python3"
  },
  "language_info": {
   "codemirror_mode": {
    "name": "ipython",
    "version": 3
   },
   "file_extension": ".py",
   "mimetype": "text/x-python",
   "name": "python",
   "nbconvert_exporter": "python",
   "pygments_lexer": "ipython3",
   "version": "3.10.0"
  }
 },
 "nbformat": 4,
 "nbformat_minor": 2
}
